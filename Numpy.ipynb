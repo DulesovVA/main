{
 "cells": [
  {
   "cell_type": "code",
   "execution_count": 1,
   "id": "cf058f9d-4ecf-4bc0-bd15-5510b0f371bb",
   "metadata": {},
   "outputs": [],
   "source": [
    "import numpy as np"
   ]
  },
  {
   "cell_type": "markdown",
   "id": "959841f3-5abd-4154-9e12-41e79ab49c53",
   "metadata": {},
   "source": [
    "1. Создайте массив 10х10, заполненный в центре нулями, а по границе единицами.\n",
    "(было без цикла, поэтому без исправлений)"
   ]
  },
  {
   "cell_type": "code",
   "execution_count": 2,
   "id": "3e2afbda-4615-4164-9ef9-0be74efbabaa",
   "metadata": {},
   "outputs": [
    {
     "data": {
      "text/plain": [
       "array([[1., 1., 1., 1., 1., 1., 1., 1., 1., 1.],\n",
       "       [1., 0., 0., 0., 0., 0., 0., 0., 0., 1.],\n",
       "       [1., 0., 0., 0., 0., 0., 0., 0., 0., 1.],\n",
       "       [1., 0., 0., 0., 0., 0., 0., 0., 0., 1.],\n",
       "       [1., 0., 0., 0., 0., 0., 0., 0., 0., 1.],\n",
       "       [1., 0., 0., 0., 0., 0., 0., 0., 0., 1.],\n",
       "       [1., 0., 0., 0., 0., 0., 0., 0., 0., 1.],\n",
       "       [1., 0., 0., 0., 0., 0., 0., 0., 0., 1.],\n",
       "       [1., 0., 0., 0., 0., 0., 0., 0., 0., 1.],\n",
       "       [1., 1., 1., 1., 1., 1., 1., 1., 1., 1.]])"
      ]
     },
     "execution_count": 2,
     "metadata": {},
     "output_type": "execute_result"
    }
   ],
   "source": [
    "import numpy as np\n",
    "A = np.ones((10, 10))\n",
    "A[1:-1, 1:-1] = 0\n",
    "A"
   ]
  },
  {
   "cell_type": "markdown",
   "id": "9d97a876-41b2-4322-a6e0-8356b563d4f5",
   "metadata": {},
   "source": [
    "2. Создайте массив 8х8, заполненный 0 и 1 в шахматном порядке.\n",
    "(было без цикла, поэтому без исправлений)"
   ]
  },
  {
   "cell_type": "code",
   "execution_count": 3,
   "id": "7c1c01fd-f900-425b-b316-835a7ca4a9c6",
   "metadata": {},
   "outputs": [
    {
     "data": {
      "text/plain": [
       "array([[1., 0., 1., 0., 1., 0., 1., 0.],\n",
       "       [0., 1., 0., 1., 0., 1., 0., 1.],\n",
       "       [1., 0., 1., 0., 1., 0., 1., 0.],\n",
       "       [0., 1., 0., 1., 0., 1., 0., 1.],\n",
       "       [1., 0., 1., 0., 1., 0., 1., 0.],\n",
       "       [0., 1., 0., 1., 0., 1., 0., 1.],\n",
       "       [1., 0., 1., 0., 1., 0., 1., 0.],\n",
       "       [0., 1., 0., 1., 0., 1., 0., 1.]])"
      ]
     },
     "execution_count": 3,
     "metadata": {},
     "output_type": "execute_result"
    }
   ],
   "source": [
    "A = np.ones([8,8])\n",
    "A[1::2, ::2] = 0\n",
    "A[::2, 1::2] = 0\n",
    "A"
   ]
  },
  {
   "cell_type": "markdown",
   "id": "6af62ce8-069e-4ca5-afd1-d82ebfd4253b",
   "metadata": {},
   "source": [
    "3. Создайте матрицу 5x5 со значениями 1,2,3,4 под главной диагональю(еще ниже код над диагональю). Остальные значения - нули. "
   ]
  },
  {
   "cell_type": "code",
   "execution_count": 4,
   "id": "ff03a7d2-ef4f-4431-8643-4e9804a81713",
   "metadata": {},
   "outputs": [
    {
     "data": {
      "text/plain": [
       "array([[0, 0, 0, 0, 0],\n",
       "       [1, 0, 0, 0, 0],\n",
       "       [0, 2, 0, 0, 0],\n",
       "       [0, 0, 3, 0, 0],\n",
       "       [0, 0, 0, 4, 0]])"
      ]
     },
     "execution_count": 4,
     "metadata": {},
     "output_type": "execute_result"
    }
   ],
   "source": [
    "A = np.diag(np.arange(1, 5), k = -1)\n",
    "A"
   ]
  },
  {
   "cell_type": "markdown",
   "id": "eb37e316-0296-4a98-ab0a-20963efef9d4",
   "metadata": {},
   "source": [
    "4. Создайте случайный массив 5х5 и нормируйте его так, чтобы среднее по каждой строке было в точности ноль."
   ]
  },
  {
   "cell_type": "code",
   "execution_count": 11,
   "id": "b35c5339-9f0b-4549-bf99-d5be02fa953f",
   "metadata": {},
   "outputs": [
    {
     "data": {
      "text/plain": [
       "array([[-0.20963095,  0.06686267, -0.25068466,  0.02745148,  0.36600146],\n",
       "       [ 0.09618635,  0.10641876,  0.38975778, -0.35734896, -0.23501393],\n",
       "       [ 0.00531562, -0.09885923, -0.02263528, -0.02278008,  0.13895897],\n",
       "       [-0.26889071,  0.21635382,  0.02233843, -0.15477322,  0.18497169],\n",
       "       [ 0.23244723,  0.00960044, -0.34712439,  0.19489055, -0.08981383]])"
      ]
     },
     "execution_count": 11,
     "metadata": {},
     "output_type": "execute_result"
    }
   ],
   "source": [
    "A = np.random.random((5,5))\n",
    "B = A - np.mean(A, axis =1, keepdims = True) # keepdims для корректного вычитания\n",
    "B"
   ]
  },
  {
   "cell_type": "markdown",
   "id": "ed175457-50cb-4543-8842-331c356fe772",
   "metadata": {},
   "source": [
    "5. Создайте двумерный массив 10x3, заполненный случайными числами от 0 до 1. В каждой строке выберите значение, наиболее близкое к 0.5.(исправлено)"
   ]
  },
  {
   "cell_type": "code",
   "execution_count": 16,
   "id": "a5c65f32-a553-437b-9e6a-d4ee959eb473",
   "metadata": {},
   "outputs": [
    {
     "data": {
      "text/plain": [
       "[0.47123375139775225,\n",
       " 0.7273690335755143,\n",
       " 0.37668709676479817,\n",
       " 0.8408015371223471,\n",
       " 0.4945849121326866,\n",
       " 0.4638998213876786,\n",
       " 0.6444560940136739,\n",
       " 0.5813919125473108,\n",
       " 0.3973975658690402,\n",
       " 0.3417550573819397]"
      ]
     },
     "execution_count": 16,
     "metadata": {},
     "output_type": "execute_result"
    }
   ],
   "source": [
    "A = np.random.random((10,3))\n",
    "length = A.shape[0]\n",
    "[A[i, np.argmin(abs(A - 0.5), axis = 1)[i]] for i in range(length)]"
   ]
  },
  {
   "cell_type": "markdown",
   "id": "d2367f3c-79c6-4f14-969f-b6e6d149b94d",
   "metadata": {},
   "source": [
    "6. Создайте двумерный массив 6x6, заполненный случайными значениями. Сумму по каждой строке поделите на максимальный элемент из столбца с тем же индексом."
   ]
  },
  {
   "cell_type": "code",
   "execution_count": 17,
   "id": "823d5cfd-a2ec-40f4-9a90-c8ae3ec89344",
   "metadata": {},
   "outputs": [
    {
     "data": {
      "text/plain": [
       "array([4.18085234, 3.18435584, 3.25819082, 5.71506118, 3.63885838,\n",
       "       3.81537848])"
      ]
     },
     "execution_count": 17,
     "metadata": {},
     "output_type": "execute_result"
    }
   ],
   "source": [
    "A = np.random.random((6, 6))\n",
    "np.sum(A, axis = 1)/ np.max(A, axis = 0)"
   ]
  },
  {
   "cell_type": "markdown",
   "id": "7de9cfa6-4494-4f49-9877-00603e1e92b5",
   "metadata": {},
   "source": [
    "7. На примере массива x = np.array([6, 2, 0, 3, 0, 0, 5, 7, 0]) найдите максимальный элемент в массиве среди элементов, перед которыми стоит ноль.(как было)"
   ]
  },
  {
   "cell_type": "code",
   "execution_count": 18,
   "id": "4c945e31-2254-4416-88fa-b394d3cc5e23",
   "metadata": {},
   "outputs": [
    {
     "data": {
      "text/plain": [
       "5"
      ]
     },
     "execution_count": 18,
     "metadata": {},
     "output_type": "execute_result"
    }
   ],
   "source": [
    "A = np.array([6, 2, 0, 3, 0, 0, 5, 7, 0])\n",
    "length = A.shape[0]\n",
    "max((A[i] for i in range(1, length) if A[i - 1] == 0))"
   ]
  },
  {
   "cell_type": "markdown",
   "id": "fbdc4f0d-bdd3-405b-9306-b38a51b10a7e",
   "metadata": {},
   "source": [
    "8. Пусть заданы два массива x = np.ones(10) и i = np.array([0, 1, 2, 3, 5, 5, 5, 8]). Прибавьте единицу к тем элементам массива x, индексы которых указаны в массиве i. В случае, если некоторый индекс встретился в массиве i несколько раз, прибавьте к соответствующему элементу массива x число вхождений данного индекса в массив i."
   ]
  },
  {
   "cell_type": "code",
   "execution_count": 19,
   "id": "3fc147a0-77e9-4ed4-a534-fe0dc8f12683",
   "metadata": {},
   "outputs": [
    {
     "data": {
      "text/plain": [
       "array([2., 2., 2., 2., 1., 4., 1., 1., 2., 1.])"
      ]
     },
     "execution_count": 19,
     "metadata": {},
     "output_type": "execute_result"
    }
   ],
   "source": [
    "A = np.ones(10)\n",
    "length = A.shape[0]\n",
    "i = np.array([0, 1, 2, 3, 5, 5, 5, 8])\n",
    "A += np.bincount(i, minlength = length)\n",
    "A"
   ]
  },
  {
   "cell_type": "markdown",
   "id": "c9ca3d8c-75c3-4cc7-bf9e-13904e2098fe",
   "metadata": {},
   "source": [
    "9. Создайте произвольный двумерный массив NxM, N, M > 1. На его основе создайте новый двумерный массив, значения в котором являются средним значением исходного во всевозможных окошках размера 2х2 со сдвигом 1 по вертикали и горизонтали."
   ]
  },
  {
   "cell_type": "code",
   "execution_count": null,
   "id": "ec1bf1cd-741e-457f-8217-82a2328d7b9e",
   "metadata": {},
   "outputs": [],
   "source": [
    "first = np.array([[ 0,  1,  2,  3,  4,  5,  6,  7,  8,  9], [10, 11, 12, 13, 14, 15, 16, 17, 18, 19], [20, 21, 22, 23, 24, 25, 26, 27, 28, 29], [30, 31, 32, 33, 34, 35, 36, 37, 38, 39]])\n",
    "second = np.array([(b[0, 0] + b[0, 1] + b[1, 0] + b[1, 1]) / 4 for t in np.lib.stride_tricks.sliding_window_view(, (2, 2) ) for b in t]).reshape(len(T[0: , 0]) - 1, len(T[0, 0:]) - 1)\n",
    "print(D)"
   ]
  }
 ],
 "metadata": {
  "kernelspec": {
   "display_name": "Python 3 (ipykernel)",
   "language": "python",
   "name": "python3"
  },
  "language_info": {
   "codemirror_mode": {
    "name": "ipython",
    "version": 3
   },
   "file_extension": ".py",
   "mimetype": "text/x-python",
   "name": "python",
   "nbconvert_exporter": "python",
   "pygments_lexer": "ipython3",
   "version": "3.12.0"
  }
 },
 "nbformat": 4,
 "nbformat_minor": 5
}
