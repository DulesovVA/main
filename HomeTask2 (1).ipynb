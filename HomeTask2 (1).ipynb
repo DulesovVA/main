{
  "metadata": {
    "language_info": {
      "codemirror_mode": {
        "name": "python",
        "version": 3
      },
      "file_extension": ".py",
      "mimetype": "text/x-python",
      "name": "python",
      "nbconvert_exporter": "python",
      "pygments_lexer": "ipython3",
      "version": "3.8"
    },
    "kernelspec": {
      "name": "python",
      "display_name": "Python (Pyodide)",
      "language": "python"
    }
  },
  "nbformat_minor": 4,
  "nbformat": 4,
  "cells": [
    {
      "cell_type": "code",
      "source": "import numpy as np",
      "metadata": {
        "trusted": true
      },
      "execution_count": 4,
      "outputs": []
    },
    {
      "cell_type": "code",
      "source": "L = np.full((10, 10), 0)\nfor i in range(10):\n    for j in range(10):\n        if i % 9 == 0 or j % 9 == 0: L[i][j] = 1\nL",
      "metadata": {
        "trusted": true
      },
      "execution_count": 11,
      "outputs": [
        {
          "execution_count": 11,
          "output_type": "execute_result",
          "data": {
            "text/plain": "array([[1, 1, 1, 1, 1, 1, 1, 1, 1, 1],\n       [1, 0, 0, 0, 0, 0, 0, 0, 0, 1],\n       [1, 0, 0, 0, 0, 0, 0, 0, 0, 1],\n       [1, 0, 0, 0, 0, 0, 0, 0, 0, 1],\n       [1, 0, 0, 0, 0, 0, 0, 0, 0, 1],\n       [1, 0, 0, 0, 0, 0, 0, 0, 0, 1],\n       [1, 0, 0, 0, 0, 0, 0, 0, 0, 1],\n       [1, 0, 0, 0, 0, 0, 0, 0, 0, 1],\n       [1, 0, 0, 0, 0, 0, 0, 0, 0, 1],\n       [1, 1, 1, 1, 1, 1, 1, 1, 1, 1]])"
          },
          "metadata": {}
        }
      ]
    },
    {
      "cell_type": "code",
      "source": "L = np.full((8,8),0)\nfor i in range(8):\n    for j in range(8):\n        L[i][j] = (i+j)%2\nL",
      "metadata": {
        "trusted": true
      },
      "execution_count": 13,
      "outputs": [
        {
          "execution_count": 13,
          "output_type": "execute_result",
          "data": {
            "text/plain": "array([[0, 1, 0, 1, 0, 1, 0, 1],\n       [1, 0, 1, 0, 1, 0, 1, 0],\n       [0, 1, 0, 1, 0, 1, 0, 1],\n       [1, 0, 1, 0, 1, 0, 1, 0],\n       [0, 1, 0, 1, 0, 1, 0, 1],\n       [1, 0, 1, 0, 1, 0, 1, 0],\n       [0, 1, 0, 1, 0, 1, 0, 1],\n       [1, 0, 1, 0, 1, 0, 1, 0]])"
          },
          "metadata": {}
        }
      ]
    },
    {
      "cell_type": "code",
      "source": "L = np.full((5,5), 0)\nfor i in range(1, 5):\n    L[i][i-1] = i\nL",
      "metadata": {
        "trusted": true
      },
      "execution_count": 14,
      "outputs": [
        {
          "execution_count": 14,
          "output_type": "execute_result",
          "data": {
            "text/plain": "array([[0, 0, 0, 0, 0],\n       [1, 0, 0, 0, 0],\n       [0, 2, 0, 0, 0],\n       [0, 0, 3, 0, 0],\n       [0, 0, 0, 4, 0]])"
          },
          "metadata": {}
        }
      ]
    },
    {
      "cell_type": "code",
      "source": "L = np.random.random((5,5))\nsumma = np.sum(L, axis = 1)\nfor i in range(5):\n    L[i, :] /= summa[i]\nL, np.sum(L, axis = 1)",
      "metadata": {
        "trusted": true
      },
      "execution_count": 15,
      "outputs": [
        {
          "execution_count": 15,
          "output_type": "execute_result",
          "data": {
            "text/plain": "(array([[0.00689562, 0.27580304, 0.0797412 , 0.55082633, 0.08673381],\n        [0.29429007, 0.07190345, 0.40796595, 0.10989274, 0.11594779],\n        [0.03144219, 0.37935591, 0.10190784, 0.35465499, 0.13263908],\n        [0.33141833, 0.40220723, 0.17097568, 0.03832031, 0.05707844],\n        [0.1226017 , 0.25095671, 0.22862773, 0.21024764, 0.18756622]]),\n array([1., 1., 1., 1., 1.]))"
          },
          "metadata": {}
        }
      ]
    },
    {
      "cell_type": "code",
      "source": "N = []\nL = np.random.random((10, 3))\nM = np.min(abs(L-0.5), axis = 1)\nfor i in range(10):\n    for j in range(3):\n        if abs(L[i][j]-0.5) == M[i]:\n            N.append(L[i][j])\nN",
      "metadata": {
        "trusted": true
      },
      "execution_count": 43,
      "outputs": [
        {
          "execution_count": 43,
          "output_type": "execute_result",
          "data": {
            "text/plain": "[0.2574855216484868,\n 0.5305800991898777,\n 0.4564847243112389,\n 0.3334769639824371,\n 0.3424265489354881,\n 0.49799730497784067,\n 0.4333379453260221,\n 0.44492575643205223,\n 0.4303091606638879,\n 0.5308858869326135]"
          },
          "metadata": {}
        }
      ]
    },
    {
      "cell_type": "code",
      "source": "L = np.random.random((6,6))\nM = np.sum(L, axis=1)\nN = np.max(L, axis=0)\nM/N",
      "metadata": {
        "trusted": true
      },
      "execution_count": 52,
      "outputs": [
        {
          "execution_count": 52,
          "output_type": "execute_result",
          "data": {
            "text/plain": "array([1.82913346, 2.71448336, 7.0624011 , 3.16325322, 3.07203404,\n       4.96814702])"
          },
          "metadata": {}
        }
      ]
    },
    {
      "cell_type": "code",
      "source": "L = np.array([6, 2, 0, 3, 0, 0, 5, 7, 0])\nM = []\nfor i in range(8):\n    if L[i]==0:\n        M.append(L[i+1])\nnp.max(M)",
      "metadata": {
        "trusted": true
      },
      "execution_count": 55,
      "outputs": [
        {
          "execution_count": 55,
          "output_type": "execute_result",
          "data": {
            "text/plain": "5"
          },
          "metadata": {}
        }
      ]
    },
    {
      "cell_type": "code",
      "source": "x = np.ones(10)\ni = np.array([0, 1, 2, 3, 5, 5, 5, 8])\nfor j in range(8):\n    x[i[j]] += 1\nx",
      "metadata": {
        "trusted": true
      },
      "execution_count": 58,
      "outputs": [
        {
          "execution_count": 58,
          "output_type": "execute_result",
          "data": {
            "text/plain": "array([2., 2., 2., 2., 1., 4., 1., 1., 2., 1.])"
          },
          "metadata": {}
        }
      ]
    },
    {
      "cell_type": "code",
      "source": "",
      "metadata": {},
      "execution_count": null,
      "outputs": []
    }
  ]
}