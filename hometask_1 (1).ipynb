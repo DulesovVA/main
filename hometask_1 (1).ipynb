{
  "metadata": {
    "language_info": {
      "codemirror_mode": {
        "name": "python",
        "version": 3
      },
      "file_extension": ".py",
      "mimetype": "text/x-python",
      "name": "python",
      "nbconvert_exporter": "python",
      "pygments_lexer": "ipython3",
      "version": "3.8"
    },
    "kernelspec": {
      "name": "python",
      "display_name": "Python (Pyodide)",
      "language": "python"
    }
  },
  "nbformat_minor": 4,
  "nbformat": 4,
  "cells": [
    {
      "cell_type": "code",
      "source": "class Test:\n    @staticmethod\n    def assert_equals(a, b, *args, **kwargs):\n        assert a == b\n        print('Passed')",
      "metadata": {
        "trusted": true
      },
      "execution_count": 17,
      "outputs": []
    },
    {
      "cell_type": "code",
      "source": "# Problem https://edabit.com/challenge/MGALfBAXhXqqdFyqo  (4 points)",
      "metadata": {
        "trusted": true
      },
      "execution_count": 18,
      "outputs": []
    },
    {
      "cell_type": "code",
      "source": "def atbash(string: str)->str:\n    answer = ''\n    for elem in string:\n        ascii_code = ord(elem)\n        if ascii_code >= 65 and ascii_code <= 90:\n            new_ascii = 90-(ascii_code-65)\n            symbol = chr(new_ascii)\n            answer += symbol\n        elif ascii_code >= 97 and ascii_code <= 122:\n            new_ascii = 122-(ascii_code-97)\n            symbol = chr(new_ascii)\n            answer += symbol\n        else:\n            answer += elem\n    return answer",
      "metadata": {
        "trusted": true
      },
      "execution_count": 19,
      "outputs": []
    },
    {
      "cell_type": "code",
      "source": "Test.assert_equals(atbash(\"abcdefghijklmnopqrstuvwxyz\"), \"zyxwvutsrqponmlkjihgfedcba\")\nTest.assert_equals(atbash(\"ABCDEFGHIJKLMNOPQRSTUVWXYZ\"), \"ZYXWVUTSRQPONMLKJIHGFEDCBA\")\nTest.assert_equals(atbash(\"The word 'atbash' derives from the the first and last 2 letters of the Hebrew alphabet.\"), \"Gsv dliw 'zgyzhs' wvirevh uiln gsv gsv urihg zmw ozhg 2 ovggvih lu gsv Svyivd zokszyvg.\")\nTest.assert_equals(atbash(\"Vmxibkgrlm zmw wvxibkgrlm ziv rwvmgrxzo uli gsv Zgyzhs xrksvi.\"),\"Encryption and decryption are identical for the Atbash cipher.\")",
      "metadata": {
        "trusted": true
      },
      "execution_count": 20,
      "outputs": [
        {
          "name": "stdout",
          "text": "Passed\nPassed\nPassed\nPassed\n",
          "output_type": "stream"
        }
      ]
    },
    {
      "cell_type": "code",
      "source": "# Problem https://edabit.com/challenge/uwFHSRewNpmBNvbME (4 points)",
      "metadata": {
        "trusted": true
      },
      "execution_count": 21,
      "outputs": []
    },
    {
      "cell_type": "code",
      "source": "def same_vowel_group(array_of_words):\n    first_vowels = {\n        'a': 0,\n        'e': 0,\n        'i': 0,\n        'o': 0,\n        'u': 0\n    }\n    for letter in array_of_words[0]:\n        if letter in first_vowels.keys():\n            first_vowels[letter] += 1\n    answer = [array_of_words[0]]\n    for i in range(1, len(array_of_words)):\n        flag = 1\n        for letter in array_of_words[i]:\n            if letter in first_vowels.keys():\n                if first_vowels[letter] > 0:\n                    continue\n                flag = 0\n                break\n        if flag:\n            array_letters = list(array_of_words[i])\n            for vowel in first_vowels.keys():\n                if first_vowels[vowel] > 0:\n                    if vowel in array_letters:\n                        continue\n                    flag = 0\n                    break\n            if flag:\n                answer.append(array_of_words[i])\n    return answer",
      "metadata": {
        "trusted": true
      },
      "execution_count": 22,
      "outputs": []
    },
    {
      "cell_type": "code",
      "source": "Test.assert_equals(same_vowel_group([\"hoops\", \"chuff\", \"bot\", \"bottom\"]), \n[\"hoops\", \"bot\", \"bottom\"])\nTest.assert_equals(same_vowel_group([\"crop\", \"nomnom\", \"bolo\", \"yodeller\"]), \n[\"crop\", \"nomnom\", \"bolo\"])\nTest.assert_equals(same_vowel_group([\"semantic\", \"aimless\", \"beautiful\", \"meatless icecream\"]), \n[\"semantic\", \"aimless\", \"meatless icecream\"])\nTest.assert_equals(same_vowel_group([\"many\", \"carriage\", \"emit\", \"apricot\", \"animal\"]), \n[\"many\"])\nTest.assert_equals(same_vowel_group([\"toe\", \"ocelot\", \"maniac\"]), [\"toe\", \"ocelot\"])\nTest.assert_equals(same_vowel_group([\"a\", \"apple\", \"flat\", \"map\", \"shark\"]), [\"a\", \"flat\", \"map\", \"shark\"])\nTest.assert_equals(same_vowel_group([\"a\", \"aa\", \"ab\", \"abc\", \"aaac\", \"abe\"]), [\"a\", \"aa\", \"ab\", \"abc\", \"aaac\"])",
      "metadata": {
        "trusted": true
      },
      "execution_count": 23,
      "outputs": [
        {
          "name": "stdout",
          "text": "Passed\nPassed\nPassed\nPassed\nPassed\nPassed\nPassed\n",
          "output_type": "stream"
        }
      ]
    },
    {
      "cell_type": "code",
      "source": "# Problem https://edabit.com/challenge/xbjDMxzpFcsAWKp97 (4 points)",
      "metadata": {
        "trusted": true
      },
      "execution_count": 24,
      "outputs": []
    },
    {
      "cell_type": "code",
      "source": "def can_see_stage(array)->bool:\n    transposed_array = [[array[j][i] for j in range(len(array))] for i in range(len(array[0]))]\n    for seats in transposed_array:\n        for i in range(len(array)-1):\n            if seats[i] < seats[i+1]:\n                continue\n            return False\n    return True",
      "metadata": {
        "trusted": true
      },
      "execution_count": 25,
      "outputs": []
    },
    {
      "cell_type": "code",
      "source": "Test.assert_equals(can_see_stage(\n[[1, 2, 3], \n[4, 5, 6], \n[7, 8, 9]]), True)\n\nTest.assert_equals(can_see_stage(\n[[1, 2, 2], \n[1, 2, 3], \n[4, 4, 4]]), False)\n\nTest.assert_equals(can_see_stage(\n[[1, 1, 2], \n[5, 2, 3], \n[4, 4, 4]]), False)\n\nTest.assert_equals(can_see_stage(\n[[1, 1, 2], \n[5, 2, 3], \n[6, 4, 4]]), True)\n\nTest.assert_equals(can_see_stage(\n[[0, 0, 0], \n[1, 1, 1], \n[2, 2, 2]]), True)\n\nTest.assert_equals(can_see_stage(\n[[2, 0, 0], \n[1, 1, 1], \n[2, 2, 2]]), False)\n\nTest.assert_equals(can_see_stage(\n[[1, 0, 0], \n[1, 1, 1], \n[2, 2, 2]]), False)\n\nTest.assert_equals(can_see_stage(\n[[1, 2, 3, 2, 1, 1], \n[2, 4, 4, 3, 2, 2], \n[5, 5, 5, 5, 4, 4], \n[6, 6, 7, 6, 5, 5]]), True)\n\nTest.assert_equals(can_see_stage(\n[[1, 2, 3, 2, 1, 1], \n[2, 4, 4, 3, 2, 2], \n[5, 5, 5, 10, 4, 4], \n[6, 6, 7, 6, 5, 5]]), False)",
      "metadata": {
        "trusted": true
      },
      "execution_count": 26,
      "outputs": [
        {
          "name": "stdout",
          "text": "Passed\nPassed\nPassed\nPassed\nPassed\nPassed\nPassed\nPassed\nPassed\n",
          "output_type": "stream"
        }
      ]
    },
    {
      "cell_type": "code",
      "source": "# Problem https://edabit.com/challenge/QN4RMpAnktNvMCWwg (4 points)",
      "metadata": {
        "trusted": true
      },
      "execution_count": 27,
      "outputs": []
    },
    {
      "cell_type": "code",
      "source": "def id_mtrx(num):\n    if isinstance(num, int):\n        answer = [[0 for i in range(abs(num))] for j in range(abs(num))]\n        for i in range(abs(num)):\n            answer[i][i] = 1\n        if num < 0:\n            new_answer = answer[::-1]\n            return new_answer\n        return answer\n    return \"Error\"",
      "metadata": {
        "trusted": true
      },
      "execution_count": 28,
      "outputs": []
    },
    {
      "cell_type": "code",
      "source": "Test.assert_equals(id_mtrx(1), [[1]])\nTest.assert_equals(id_mtrx(2), [[1, 0], [0, 1]])\nTest.assert_equals(id_mtrx(3), [[1, 0, 0], [0, 1, 0], [0, 0, 1]])\nTest.assert_equals(id_mtrx(4), [[1, 0, 0, 0], [0, 1, 0, 0], [0, 0, 1, 0], [0, 0, 0, 1]])\nTest.assert_equals(id_mtrx(-6), [[0, 0, 0, 0, 0, 1], [0, 0, 0, 0, 1, 0], [0, 0, 0, 1, 0, 0], [0, 0, 1, 0, 0, 0], [0, 1, 0, 0, 0, 0], [1, 0, 0, 0, 0, 0]])\nTest.assert_equals(id_mtrx(\"edabit\"), \"Error\", 'Incompatible types passed as n should return the string \"Error\".')",
      "metadata": {
        "trusted": true
      },
      "execution_count": 29,
      "outputs": [
        {
          "name": "stdout",
          "text": "Passed\nPassed\nPassed\nPassed\nPassed\nPassed\n",
          "output_type": "stream"
        }
      ]
    }
  ]
}